{
 "cells": [
  {
   "cell_type": "markdown",
   "metadata": {},
   "source": [
    "## Import necessary tools"
   ]
  },
  {
   "cell_type": "code",
   "execution_count": 1,
   "metadata": {
    "scrolled": false
   },
   "outputs": [],
   "source": [
    "# !pip install --upgrade lightgbm\n",
    "# !pip install pycodestyle flake8 pycodestyle_magic\n",
    "# !conda install py-xgboost\n",
    "%load_ext pycodestyle_magic"
   ]
  },
  {
   "cell_type": "code",
   "execution_count": 35,
   "metadata": {},
   "outputs": [],
   "source": [
    "import numpy as np\n",
    "import pandas as pd\n",
    "import gc\n",
    "import matplotlib.pyplot as plt\n",
    "import seaborn as sns\n",
    "from sklearn.model_selection import train_test_split\n",
    "from sklearn.metrics import mean_squared_error as mse\n",
    "from sklearn.model_selection import KFold\n",
    "from sklearn.preprocessing import StandardScaler\n",
    "import warnings\n",
    "import xgboost as xgb\n",
    "from sklearn.linear_model import LinearRegression\n",
    "from sklearn.neighbors import KNeighborsRegressor\n",
    "import pickle\n",
    "\n",
    "%matplotlib inline\n",
    "warnings.filterwarnings(\"ignore\")\n"
   ]
  },
  {
   "cell_type": "markdown",
   "metadata": {},
   "source": [
    "The first thing I did was to read the data into a pandas dataframe"
   ]
  },
  {
   "cell_type": "code",
   "execution_count": 36,
   "metadata": {},
   "outputs": [],
   "source": [
    "data = pd.read_csv('../data_root/raw/wine_dataset.csv')\n"
   ]
  },
  {
   "cell_type": "code",
   "execution_count": 37,
   "metadata": {},
   "outputs": [
    {
     "name": "stdout",
     "output_type": "stream",
     "text": [
      "<class 'pandas.core.frame.DataFrame'>\n",
      "RangeIndex: 10000 entries, 0 to 9999\n",
      "Data columns (total 14 columns):\n",
      "Unnamed: 0               10000 non-null int64\n",
      "country                  9994 non-null object\n",
      "description              10000 non-null object\n",
      "designation              7171 non-null object\n",
      "points                   10000 non-null int64\n",
      "price                    9323 non-null float64\n",
      "province                 9994 non-null object\n",
      "region_1                 8336 non-null object\n",
      "region_2                 3853 non-null object\n",
      "taster_name              8015 non-null object\n",
      "taster_twitter_handle    7644 non-null object\n",
      "title                    10000 non-null object\n",
      "variety                  10000 non-null object\n",
      "winery                   10000 non-null object\n",
      "dtypes: float64(1), int64(2), object(11)\n",
      "memory usage: 1.1+ MB\n"
     ]
    }
   ],
   "source": [
    "data.info()\n"
   ]
  },
  {
   "cell_type": "markdown",
   "metadata": {},
   "source": [
    "## My analysis will be done based on five aspects:\n",
    "\n",
    "1. Exploratory Data Analysis (EDA)\n",
    "2. Data Visualization\n",
    "3. Feature Engineering\n",
    "4. Model Building and Evaluation\n",
    "5. Results and Conclusion"
   ]
  },
  {
   "cell_type": "markdown",
   "metadata": {},
   "source": [
    "### Exploratory Data Analysis"
   ]
  },
  {
   "cell_type": "markdown",
   "metadata": {},
   "source": [
    "Let's get a first look at our data"
   ]
  },
  {
   "cell_type": "code",
   "execution_count": 38,
   "metadata": {},
   "outputs": [
    {
     "data": {
      "text/html": [
       "<div>\n",
       "<style scoped>\n",
       "    .dataframe tbody tr th:only-of-type {\n",
       "        vertical-align: middle;\n",
       "    }\n",
       "\n",
       "    .dataframe tbody tr th {\n",
       "        vertical-align: top;\n",
       "    }\n",
       "\n",
       "    .dataframe thead th {\n",
       "        text-align: right;\n",
       "    }\n",
       "</style>\n",
       "<table border=\"1\" class=\"dataframe\">\n",
       "  <thead>\n",
       "    <tr style=\"text-align: right;\">\n",
       "      <th></th>\n",
       "      <th>Unnamed: 0</th>\n",
       "      <th>country</th>\n",
       "      <th>description</th>\n",
       "      <th>designation</th>\n",
       "      <th>points</th>\n",
       "      <th>price</th>\n",
       "      <th>province</th>\n",
       "      <th>region_1</th>\n",
       "      <th>region_2</th>\n",
       "      <th>taster_name</th>\n",
       "      <th>taster_twitter_handle</th>\n",
       "      <th>title</th>\n",
       "      <th>variety</th>\n",
       "      <th>winery</th>\n",
       "    </tr>\n",
       "  </thead>\n",
       "  <tbody>\n",
       "    <tr>\n",
       "      <th>0</th>\n",
       "      <td>0</td>\n",
       "      <td>Italy</td>\n",
       "      <td>Fragrances suggest hay, crushed tomato vine an...</td>\n",
       "      <td>Kirchleiten</td>\n",
       "      <td>90</td>\n",
       "      <td>30.0</td>\n",
       "      <td>Northeastern Italy</td>\n",
       "      <td>Alto Adige</td>\n",
       "      <td>NaN</td>\n",
       "      <td>Kerin O’Keefe</td>\n",
       "      <td>@kerinokeefe</td>\n",
       "      <td>Tiefenbrunner 2012 Kirchleiten Sauvignon (Alto...</td>\n",
       "      <td>Sauvignon</td>\n",
       "      <td>Tiefenbrunner</td>\n",
       "    </tr>\n",
       "    <tr>\n",
       "      <th>1</th>\n",
       "      <td>1</td>\n",
       "      <td>France</td>\n",
       "      <td>Packed with fruit and crisp acidity, this is a...</td>\n",
       "      <td>NaN</td>\n",
       "      <td>87</td>\n",
       "      <td>22.0</td>\n",
       "      <td>Loire Valley</td>\n",
       "      <td>Sancerre</td>\n",
       "      <td>NaN</td>\n",
       "      <td>Roger Voss</td>\n",
       "      <td>@vossroger</td>\n",
       "      <td>Bernard Reverdy et Fils 2014 Rosé (Sancerre)</td>\n",
       "      <td>Rosé</td>\n",
       "      <td>Bernard Reverdy et Fils</td>\n",
       "    </tr>\n",
       "    <tr>\n",
       "      <th>2</th>\n",
       "      <td>2</td>\n",
       "      <td>Italy</td>\n",
       "      <td>This easy, ruby-red wine displays fresh berry ...</td>\n",
       "      <td>NaN</td>\n",
       "      <td>86</td>\n",
       "      <td>NaN</td>\n",
       "      <td>Tuscany</td>\n",
       "      <td>Chianti Classico</td>\n",
       "      <td>NaN</td>\n",
       "      <td>NaN</td>\n",
       "      <td>NaN</td>\n",
       "      <td>Dievole 2009  Chianti Classico</td>\n",
       "      <td>Sangiovese</td>\n",
       "      <td>Dievole</td>\n",
       "    </tr>\n",
       "    <tr>\n",
       "      <th>3</th>\n",
       "      <td>3</td>\n",
       "      <td>US</td>\n",
       "      <td>Pretty in violet and rose petals this is a low...</td>\n",
       "      <td>Horseshoe Bend Vineyard</td>\n",
       "      <td>92</td>\n",
       "      <td>50.0</td>\n",
       "      <td>California</td>\n",
       "      <td>Russian River Valley</td>\n",
       "      <td>Sonoma</td>\n",
       "      <td>Virginie Boone</td>\n",
       "      <td>@vboone</td>\n",
       "      <td>Davis Family 2012 Horseshoe Bend Vineyard Pino...</td>\n",
       "      <td>Pinot Noir</td>\n",
       "      <td>Davis Family</td>\n",
       "    </tr>\n",
       "    <tr>\n",
       "      <th>4</th>\n",
       "      <td>4</td>\n",
       "      <td>US</td>\n",
       "      <td>This golden wine confounds in a mix of wet sto...</td>\n",
       "      <td>Dutton Ranch</td>\n",
       "      <td>93</td>\n",
       "      <td>38.0</td>\n",
       "      <td>California</td>\n",
       "      <td>Russian River Valley</td>\n",
       "      <td>Sonoma</td>\n",
       "      <td>Virginie Boone</td>\n",
       "      <td>@vboone</td>\n",
       "      <td>Dutton-Goldfield 2013 Dutton Ranch Chardonnay ...</td>\n",
       "      <td>Chardonnay</td>\n",
       "      <td>Dutton-Goldfield</td>\n",
       "    </tr>\n",
       "  </tbody>\n",
       "</table>\n",
       "</div>"
      ],
      "text/plain": [
       "   Unnamed: 0 country                                        description  \\\n",
       "0           0   Italy  Fragrances suggest hay, crushed tomato vine an...   \n",
       "1           1  France  Packed with fruit and crisp acidity, this is a...   \n",
       "2           2   Italy  This easy, ruby-red wine displays fresh berry ...   \n",
       "3           3      US  Pretty in violet and rose petals this is a low...   \n",
       "4           4      US  This golden wine confounds in a mix of wet sto...   \n",
       "\n",
       "               designation  points  price            province  \\\n",
       "0              Kirchleiten      90   30.0  Northeastern Italy   \n",
       "1                      NaN      87   22.0        Loire Valley   \n",
       "2                      NaN      86    NaN             Tuscany   \n",
       "3  Horseshoe Bend Vineyard      92   50.0          California   \n",
       "4             Dutton Ranch      93   38.0          California   \n",
       "\n",
       "               region_1 region_2     taster_name taster_twitter_handle  \\\n",
       "0            Alto Adige      NaN   Kerin O’Keefe          @kerinokeefe   \n",
       "1              Sancerre      NaN      Roger Voss            @vossroger   \n",
       "2      Chianti Classico      NaN             NaN                   NaN   \n",
       "3  Russian River Valley   Sonoma  Virginie Boone               @vboone   \n",
       "4  Russian River Valley   Sonoma  Virginie Boone               @vboone   \n",
       "\n",
       "                                               title     variety  \\\n",
       "0  Tiefenbrunner 2012 Kirchleiten Sauvignon (Alto...   Sauvignon   \n",
       "1       Bernard Reverdy et Fils 2014 Rosé (Sancerre)        Rosé   \n",
       "2                     Dievole 2009  Chianti Classico  Sangiovese   \n",
       "3  Davis Family 2012 Horseshoe Bend Vineyard Pino...  Pinot Noir   \n",
       "4  Dutton-Goldfield 2013 Dutton Ranch Chardonnay ...  Chardonnay   \n",
       "\n",
       "                    winery  \n",
       "0            Tiefenbrunner  \n",
       "1  Bernard Reverdy et Fils  \n",
       "2                  Dievole  \n",
       "3             Davis Family  \n",
       "4         Dutton-Goldfield  "
      ]
     },
     "execution_count": 38,
     "metadata": {},
     "output_type": "execute_result"
    }
   ],
   "source": [
    "data.head()\n"
   ]
  },
  {
   "cell_type": "markdown",
   "metadata": {},
   "source": [
    "We can see from the sample of our data above. We note that our data is mostly text, contains quite a number of missing values, has only 2 numeric columns and we are to predict one of them (points)"
   ]
  },
  {
   "cell_type": "markdown",
   "metadata": {},
   "source": [
    "There are usually two kinds of bad data: duplicate and misssing.\n",
    "I decided to check for duplicate data and delete them if they exist.\n",
    "My assumption: If the data contains the same name, title and description, then it is the same data"
   ]
  },
  {
   "cell_type": "code",
   "execution_count": 39,
   "metadata": {},
   "outputs": [
    {
     "name": "stdout",
     "output_type": "stream",
     "text": [
      "The total number of data samples:  10000\n",
      "Duplicate data  58\n"
     ]
    }
   ],
   "source": [
    "print(\"The total number of data samples: \", data.shape[0])\n",
    "print(\"Duplicate data \", data[data.duplicated([\n",
    "    'taster_name', 'title', 'description']\n",
    ")].shape[0])\n"
   ]
  },
  {
   "cell_type": "markdown",
   "metadata": {},
   "source": [
    "we can see that there are 58 duplicate samples in our dataset so we have to drop them"
   ]
  },
  {
   "cell_type": "code",
   "execution_count": 40,
   "metadata": {},
   "outputs": [],
   "source": [
    "data = data.drop_duplicates(['taster_name', 'title', 'description'])\n"
   ]
  },
  {
   "cell_type": "markdown",
   "metadata": {},
   "source": [
    "Now we would need to take care of missing data, let's first check how many they are"
   ]
  },
  {
   "cell_type": "code",
   "execution_count": 41,
   "metadata": {},
   "outputs": [
    {
     "data": {
      "text/plain": [
       "Unnamed: 0                  0\n",
       "country                     6\n",
       "description                 0\n",
       "designation              2813\n",
       "points                      0\n",
       "price                     676\n",
       "province                    6\n",
       "region_1                 1653\n",
       "region_2                 6112\n",
       "taster_name              1983\n",
       "taster_twitter_handle    2353\n",
       "title                       0\n",
       "variety                     0\n",
       "winery                      0\n",
       "dtype: int64"
      ]
     },
     "execution_count": 41,
     "metadata": {},
     "output_type": "execute_result"
    }
   ],
   "source": [
    "data.isnull().sum()\n"
   ]
  },
  {
   "cell_type": "markdown",
   "metadata": {},
   "source": [
    "That's quite a lot of missing data and we are going to have to take care of them"
   ]
  },
  {
   "cell_type": "code",
   "execution_count": 42,
   "metadata": {},
   "outputs": [],
   "source": [
    "# if there are any infinity values in the data,\n",
    "# replace with NaN\n",
    "data = data.replace([np.inf, -np.inf], np.nan)\n"
   ]
  },
  {
   "cell_type": "code",
   "execution_count": 43,
   "metadata": {},
   "outputs": [
    {
     "data": {
      "text/plain": [
       "Unnamed: 0                  0\n",
       "country                     6\n",
       "description                 0\n",
       "designation              2813\n",
       "points                      0\n",
       "price                     676\n",
       "province                    6\n",
       "region_1                 1653\n",
       "region_2                 6112\n",
       "taster_name              1983\n",
       "taster_twitter_handle    2353\n",
       "title                       0\n",
       "variety                     0\n",
       "winery                      0\n",
       "dtype: int64"
      ]
     },
     "execution_count": 43,
     "metadata": {},
     "output_type": "execute_result"
    }
   ],
   "source": [
    "data.isnull().sum()\n"
   ]
  },
  {
   "cell_type": "markdown",
   "metadata": {},
   "source": [
    "### Data Visualization"
   ]
  },
  {
   "cell_type": "code",
   "execution_count": null,
   "metadata": {},
   "outputs": [],
   "source": [
    "sns.countplot(data['points'])\n"
   ]
  },
  {
   "cell_type": "markdown",
   "metadata": {},
   "source": [
    "We can see that all wine points are between 80 - 100 and most wine points are 88. Now lets see how price affects the points"
   ]
  },
  {
   "cell_type": "code",
   "execution_count": 12,
   "metadata": {},
   "outputs": [
    {
     "name": "stderr",
     "output_type": "stream",
     "text": [
      "10:1: W391 blank line at end of file\n"
     ]
    }
   ],
   "source": [
    "plt.figure(figsize=(10, 4))\n",
    "\n",
    "g = sns.regplot(x='points', y='price', data=data, fit_reg=True)\n",
    "g.set_title(\"Points x Price Distribuition\", fontsize=20)\n",
    "g.set_xlabel(\"Points\", fontsize=15)\n",
    "g.set_ylabel(\"Price\", fontsize=15)\n",
    "\n",
    "plt.show()\n"
   ]
  },
  {
   "cell_type": "markdown",
   "metadata": {},
   "source": [
    "As we can see from the above, the higher the price, the higher the probability of getting a high point is, and this seems quite logical"
   ]
  },
  {
   "cell_type": "markdown",
   "metadata": {},
   "source": [
    "Now let us see how country affects price."
   ]
  },
  {
   "cell_type": "code",
   "execution_count": null,
   "metadata": {},
   "outputs": [],
   "source": [
    "data = data[['price', 'points', 'country', 'province']].copy()\n"
   ]
  },
  {
   "cell_type": "code",
   "execution_count": null,
   "metadata": {},
   "outputs": [],
   "source": [
    "data.head()\n"
   ]
  },
  {
   "cell_type": "markdown",
   "metadata": {},
   "source": [
    "**We have to be careful while generating the features in order to avoid data leakage**"
   ]
  },
  {
   "cell_type": "code",
   "execution_count": 49,
   "metadata": {},
   "outputs": [
    {
     "name": "stderr",
     "output_type": "stream",
     "text": [
      "112:1: W391 blank line at end of file\n"
     ]
    }
   ],
   "source": [
    "%%pycodestyle\n",
    "def handle_missing_values(data):\n",
    "    data = data.fillna(data.mean())  # fill missing values with the mean\n",
    "    # the rows which have country and province empty\n",
    "    # can be done away with since they are only 6\n",
    "    data = data.dropna()\n",
    "    return data\n",
    "\n",
    "\n",
    "def data_trans(df, place, obj, stat):\n",
    "    return df.groupby(place)[obj].transform(stat)\n",
    "\n",
    "\n",
    "def data_diff(df, col1, col2):\n",
    "    return df[col1] - df[col2]\n",
    "\n",
    "\n",
    "def generate_price_features(df):\n",
    "    df['price_per_country_mean'] = data_trans(\n",
    "                                        df,\n",
    "                                        'country',\n",
    "                                        'price',\n",
    "                                        'mean'\n",
    "                                    )\n",
    "    df['price_per_country_mean_diff'] = data_diff(\n",
    "                                          df,\n",
    "                                          'price',\n",
    "                                          'price_per_country_mean'\n",
    "                                        )\n",
    "    df['price_per_country_median'] = data_trans(\n",
    "                                        df,\n",
    "                                        'country',\n",
    "                                        'price',\n",
    "                                        'median'\n",
    "                                     )\n",
    "    df['price_per_country_median_diff'] = data_diff(\n",
    "                                            df,\n",
    "                                            'price',\n",
    "                                            'price_per_country_median'\n",
    "                                          )\n",
    "    df['price_per_province_mean'] = data_trans(\n",
    "                                        df,\n",
    "                                        'province',\n",
    "                                        'price',\n",
    "                                        'mean'\n",
    "                                    )\n",
    "    df['price_per_province_mean_diff'] = data_diff(\n",
    "                                          df,\n",
    "                                          'price',\n",
    "                                          'price_per_province_mean'\n",
    "                                        )\n",
    "    df['price_per_province_median'] = data_trans(\n",
    "                                        df,\n",
    "                                        'province',\n",
    "                                        'price',\n",
    "                                        'median'\n",
    "                                     )\n",
    "    df['price_per_province_median_diff'] = data_diff(\n",
    "                                            df,\n",
    "                                            'price',\n",
    "                                            'price_per_province_median'\n",
    "                                          )\n",
    "    return df\n",
    "\n",
    "\n",
    "def generate_point_features(df):\n",
    "    df['points_per_country_mean'] = data_trans(\n",
    "                                        df,\n",
    "                                        'country',\n",
    "                                        'price',\n",
    "                                        'mean'\n",
    "                                    )\n",
    "    df['points_per_country_mean_diff'] = data_diff(\n",
    "                                          df,\n",
    "                                          'price',\n",
    "                                          'price_per_country_mean'\n",
    "                                        )\n",
    "    df['points_per_country_median'] = data_trans(\n",
    "                                        df,\n",
    "                                        'country',\n",
    "                                        'price',\n",
    "                                        'median'\n",
    "                                     )\n",
    "    df['points_per_country_median_diff'] = data_diff(\n",
    "                                            df,\n",
    "                                            'points',\n",
    "                                            'points_per_country_median'\n",
    "                                          )\n",
    "    df['points_per_province_mean'] = data_trans(\n",
    "                                        df,\n",
    "                                        'province',\n",
    "                                        'points',\n",
    "                                        'mean'\n",
    "                                    )\n",
    "    df['points_per_province_mean_diff'] = data_diff(\n",
    "                                          df,\n",
    "                                          'points',\n",
    "                                          'points_per_province_mean'\n",
    "                                        )\n",
    "    df['points_per_province_median'] = data_trans(\n",
    "                                        df,\n",
    "                                        'province',\n",
    "                                        'points',\n",
    "                                        'median'\n",
    "                                     )\n",
    "    df['points_per_province_median_diff'] = data_diff(\n",
    "                                            df,\n",
    "                                            'points',\n",
    "                                            'points_per_province_median'\n",
    "                                          )\n",
    "    return df\n"
   ]
  },
  {
   "cell_type": "code",
   "execution_count": 45,
   "metadata": {},
   "outputs": [
    {
     "data": {
      "text/plain": [
       "Unnamed: 0                         0\n",
       "country                            0\n",
       "description                        0\n",
       "designation                        0\n",
       "points                             0\n",
       "price                              0\n",
       "province                           0\n",
       "region_1                           0\n",
       "region_2                           0\n",
       "taster_name                        0\n",
       "taster_twitter_handle              0\n",
       "title                              0\n",
       "variety                            0\n",
       "winery                             0\n",
       "price_per_country_mean             0\n",
       "price_per_country_mean_diff        0\n",
       "price_per_country_median           0\n",
       "price_per_country_median_diff      0\n",
       "price_per_province_mean            0\n",
       "price_per_province_mean_diff       0\n",
       "price_per_province_median          0\n",
       "price_per_province_median_diff     0\n",
       "points_per_country_mean            0\n",
       "points_per_country_mean_diff       0\n",
       "points_per_country_median          0\n",
       "points_per_country_median_diff     0\n",
       "points_per_province_mean           0\n",
       "points_per_province_mean_diff      0\n",
       "points_per_province_median         0\n",
       "points_per_province_median_diff    0\n",
       "dtype: int64"
      ]
     },
     "execution_count": 45,
     "metadata": {},
     "output_type": "execute_result"
    }
   ],
   "source": [
    "# %%pycodestyle\n",
    "data = handle_missing_values(data)\n",
    "data = generate_price_features(data)\n",
    "data = generate_point_features(data)\n",
    "data.isnull().sum()\n"
   ]
  },
  {
   "cell_type": "code",
   "execution_count": 47,
   "metadata": {},
   "outputs": [
    {
     "data": {
      "text/html": [
       "<div>\n",
       "<style scoped>\n",
       "    .dataframe tbody tr th:only-of-type {\n",
       "        vertical-align: middle;\n",
       "    }\n",
       "\n",
       "    .dataframe tbody tr th {\n",
       "        vertical-align: top;\n",
       "    }\n",
       "\n",
       "    .dataframe thead th {\n",
       "        text-align: right;\n",
       "    }\n",
       "</style>\n",
       "<table border=\"1\" class=\"dataframe\">\n",
       "  <thead>\n",
       "    <tr style=\"text-align: right;\">\n",
       "      <th></th>\n",
       "      <th>Unnamed: 0</th>\n",
       "      <th>country</th>\n",
       "      <th>description</th>\n",
       "      <th>designation</th>\n",
       "      <th>points</th>\n",
       "      <th>price</th>\n",
       "      <th>province</th>\n",
       "      <th>region_1</th>\n",
       "      <th>region_2</th>\n",
       "      <th>taster_name</th>\n",
       "      <th>...</th>\n",
       "      <th>price_per_province_median</th>\n",
       "      <th>price_per_province_median_diff</th>\n",
       "      <th>points_per_country_mean</th>\n",
       "      <th>points_per_country_mean_diff</th>\n",
       "      <th>points_per_country_median</th>\n",
       "      <th>points_per_country_median_diff</th>\n",
       "      <th>points_per_province_mean</th>\n",
       "      <th>points_per_province_mean_diff</th>\n",
       "      <th>points_per_province_median</th>\n",
       "      <th>points_per_province_median_diff</th>\n",
       "    </tr>\n",
       "  </thead>\n",
       "  <tbody>\n",
       "    <tr>\n",
       "      <th>3</th>\n",
       "      <td>3</td>\n",
       "      <td>US</td>\n",
       "      <td>Pretty in violet and rose petals this is a low...</td>\n",
       "      <td>Horseshoe Bend Vineyard</td>\n",
       "      <td>92</td>\n",
       "      <td>50.0</td>\n",
       "      <td>California</td>\n",
       "      <td>Russian River Valley</td>\n",
       "      <td>Sonoma</td>\n",
       "      <td>Virginie Boone</td>\n",
       "      <td>...</td>\n",
       "      <td>38.0</td>\n",
       "      <td>12.0</td>\n",
       "      <td>89.511891</td>\n",
       "      <td>2.488109</td>\n",
       "      <td>90</td>\n",
       "      <td>2</td>\n",
       "      <td>89.790674</td>\n",
       "      <td>2.209326</td>\n",
       "      <td>90</td>\n",
       "      <td>2</td>\n",
       "    </tr>\n",
       "    <tr>\n",
       "      <th>4</th>\n",
       "      <td>4</td>\n",
       "      <td>US</td>\n",
       "      <td>This golden wine confounds in a mix of wet sto...</td>\n",
       "      <td>Dutton Ranch</td>\n",
       "      <td>93</td>\n",
       "      <td>38.0</td>\n",
       "      <td>California</td>\n",
       "      <td>Russian River Valley</td>\n",
       "      <td>Sonoma</td>\n",
       "      <td>Virginie Boone</td>\n",
       "      <td>...</td>\n",
       "      <td>38.0</td>\n",
       "      <td>0.0</td>\n",
       "      <td>89.511891</td>\n",
       "      <td>3.488109</td>\n",
       "      <td>90</td>\n",
       "      <td>3</td>\n",
       "      <td>89.790674</td>\n",
       "      <td>3.209326</td>\n",
       "      <td>90</td>\n",
       "      <td>3</td>\n",
       "    </tr>\n",
       "    <tr>\n",
       "      <th>12</th>\n",
       "      <td>12</td>\n",
       "      <td>US</td>\n",
       "      <td>Brooding dark fruit and luxurious French oak s...</td>\n",
       "      <td>The Pixie</td>\n",
       "      <td>92</td>\n",
       "      <td>45.0</td>\n",
       "      <td>Washington</td>\n",
       "      <td>Red Mountain</td>\n",
       "      <td>Columbia Valley</td>\n",
       "      <td>Sean P. Sullivan</td>\n",
       "      <td>...</td>\n",
       "      <td>30.0</td>\n",
       "      <td>15.0</td>\n",
       "      <td>89.511891</td>\n",
       "      <td>2.488109</td>\n",
       "      <td>90</td>\n",
       "      <td>2</td>\n",
       "      <td>89.173423</td>\n",
       "      <td>2.826577</td>\n",
       "      <td>90</td>\n",
       "      <td>2</td>\n",
       "    </tr>\n",
       "    <tr>\n",
       "      <th>34</th>\n",
       "      <td>34</td>\n",
       "      <td>US</td>\n",
       "      <td>From the wilds of Atlas Peak, this lovely wine...</td>\n",
       "      <td>Oso Malo</td>\n",
       "      <td>92</td>\n",
       "      <td>75.0</td>\n",
       "      <td>California</td>\n",
       "      <td>Napa Valley</td>\n",
       "      <td>Napa</td>\n",
       "      <td>Virginie Boone</td>\n",
       "      <td>...</td>\n",
       "      <td>38.0</td>\n",
       "      <td>37.0</td>\n",
       "      <td>89.511891</td>\n",
       "      <td>2.488109</td>\n",
       "      <td>90</td>\n",
       "      <td>2</td>\n",
       "      <td>89.790674</td>\n",
       "      <td>2.209326</td>\n",
       "      <td>90</td>\n",
       "      <td>2</td>\n",
       "    </tr>\n",
       "    <tr>\n",
       "      <th>48</th>\n",
       "      <td>48</td>\n",
       "      <td>US</td>\n",
       "      <td>Clean and varietal, this firm and juicy Pinot ...</td>\n",
       "      <td>Signature Collection</td>\n",
       "      <td>88</td>\n",
       "      <td>27.0</td>\n",
       "      <td>Oregon</td>\n",
       "      <td>Oregon</td>\n",
       "      <td>Oregon Other</td>\n",
       "      <td>Paul Gregutt</td>\n",
       "      <td>...</td>\n",
       "      <td>36.0</td>\n",
       "      <td>-9.0</td>\n",
       "      <td>89.511891</td>\n",
       "      <td>-1.511891</td>\n",
       "      <td>90</td>\n",
       "      <td>-2</td>\n",
       "      <td>89.275194</td>\n",
       "      <td>-1.275194</td>\n",
       "      <td>90</td>\n",
       "      <td>-2</td>\n",
       "    </tr>\n",
       "  </tbody>\n",
       "</table>\n",
       "<p>5 rows × 30 columns</p>\n",
       "</div>"
      ],
      "text/plain": [
       "    Unnamed: 0 country                                        description  \\\n",
       "3            3      US  Pretty in violet and rose petals this is a low...   \n",
       "4            4      US  This golden wine confounds in a mix of wet sto...   \n",
       "12          12      US  Brooding dark fruit and luxurious French oak s...   \n",
       "34          34      US  From the wilds of Atlas Peak, this lovely wine...   \n",
       "48          48      US  Clean and varietal, this firm and juicy Pinot ...   \n",
       "\n",
       "                designation  points  price    province              region_1  \\\n",
       "3   Horseshoe Bend Vineyard      92   50.0  California  Russian River Valley   \n",
       "4              Dutton Ranch      93   38.0  California  Russian River Valley   \n",
       "12                The Pixie      92   45.0  Washington          Red Mountain   \n",
       "34                 Oso Malo      92   75.0  California           Napa Valley   \n",
       "48     Signature Collection      88   27.0      Oregon                Oregon   \n",
       "\n",
       "           region_2       taster_name  ... price_per_province_median  \\\n",
       "3            Sonoma    Virginie Boone  ...                      38.0   \n",
       "4            Sonoma    Virginie Boone  ...                      38.0   \n",
       "12  Columbia Valley  Sean P. Sullivan  ...                      30.0   \n",
       "34             Napa    Virginie Boone  ...                      38.0   \n",
       "48     Oregon Other      Paul Gregutt  ...                      36.0   \n",
       "\n",
       "   price_per_province_median_diff points_per_country_mean  \\\n",
       "3                            12.0               89.511891   \n",
       "4                             0.0               89.511891   \n",
       "12                           15.0               89.511891   \n",
       "34                           37.0               89.511891   \n",
       "48                           -9.0               89.511891   \n",
       "\n",
       "   points_per_country_mean_diff  points_per_country_median  \\\n",
       "3                      2.488109                         90   \n",
       "4                      3.488109                         90   \n",
       "12                     2.488109                         90   \n",
       "34                     2.488109                         90   \n",
       "48                    -1.511891                         90   \n",
       "\n",
       "    points_per_country_median_diff  points_per_province_mean  \\\n",
       "3                                2                 89.790674   \n",
       "4                                3                 89.790674   \n",
       "12                               2                 89.173423   \n",
       "34                               2                 89.790674   \n",
       "48                              -2                 89.275194   \n",
       "\n",
       "    points_per_province_mean_diff  points_per_province_median  \\\n",
       "3                        2.209326                          90   \n",
       "4                        3.209326                          90   \n",
       "12                       2.826577                          90   \n",
       "34                       2.209326                          90   \n",
       "48                      -1.275194                          90   \n",
       "\n",
       "    points_per_province_median_diff  \n",
       "3                                 2  \n",
       "4                                 3  \n",
       "12                                2  \n",
       "34                                2  \n",
       "48                               -2  \n",
       "\n",
       "[5 rows x 30 columns]"
      ]
     },
     "execution_count": 47,
     "metadata": {},
     "output_type": "execute_result"
    }
   ],
   "source": [
    "data.head()\n"
   ]
  },
  {
   "cell_type": "markdown",
   "metadata": {},
   "source": [
    "#### Building a model to select the most important features; It is not the main model for prediction"
   ]
  },
  {
   "cell_type": "markdown",
   "metadata": {},
   "source": [
    "select the generated features"
   ]
  },
  {
   "cell_type": "code",
   "execution_count": 50,
   "metadata": {},
   "outputs": [
    {
     "name": "stderr",
     "output_type": "stream",
     "text": [
      "19:1: W391 blank line at end of file\n"
     ]
    }
   ],
   "source": [
    "%%pycodestyle\n",
    "train_features = [\n",
    "    'price',\n",
    "    'price_per_country_mean',\n",
    "    'price_per_country_mean_diff',\n",
    "    'price_per_country_median',\n",
    "    'price_per_country_median_diff',\n",
    "    'price_per_province_mean',\n",
    "    'price_per_province_mean_diff',\n",
    "    'price_per_province_median',\n",
    "    'price_per_province_median_diff',\n",
    "    'points_per_country_mean',\n",
    "    'points_per_country_median',\n",
    "    'points_per_province_mean',\n",
    "    'points_per_province_median',\n",
    "]\n",
    "\n",
    "target_feature = 'points'\n"
   ]
  },
  {
   "cell_type": "code",
   "execution_count": 51,
   "metadata": {},
   "outputs": [
    {
     "name": "stderr",
     "output_type": "stream",
     "text": [
      "4:1: W391 blank line at end of file\n"
     ]
    }
   ],
   "source": [
    "df_train = data[train_features].copy().values\n",
    "target = data[target_feature].copy().values\n"
   ]
  },
  {
   "cell_type": "markdown",
   "metadata": {},
   "source": [
    "### Split the dataset into train and test data"
   ]
  },
  {
   "cell_type": "code",
   "execution_count": null,
   "metadata": {},
   "outputs": [],
   "source": [
    "X_train, X_test, y_train, y_test = train_test_split(df_train, target, test_size=0.3)\n"
   ]
  },
  {
   "cell_type": "markdown",
   "metadata": {},
   "source": [
    "## Time to build the model"
   ]
  },
  {
   "cell_type": "markdown",
   "metadata": {},
   "source": [
    "I first build an xgb model for the dataset and test it on validation part using KFold"
   ]
  },
  {
   "cell_type": "code",
   "execution_count": 53,
   "metadata": {},
   "outputs": [
    {
     "name": "stderr",
     "output_type": "stream",
     "text": [
      "23:1: W391 blank line at end of file\n"
     ]
    }
   ],
   "source": [
    "kf = KFold(n_splits=10, shuffle=True)\n",
    "for train_index, test_index in kf.split(X_train):\n",
    "    X_, X_valid = X_train[train_index], X_train[test_index]\n",
    "    y_, y_valid = y_train[train_index], y_train[test_index]\n",
    "    sc = StandardScaler()\n",
    "    X_ = sc.fit_transform(X_)\n",
    "    X_valid = sc.transform(X_valid)\n",
    "    std_mean = sc.mean_\n",
    "    std_var = sc.var_\n",
    "    xgb_model = xgb.XGBRegressor(\n",
    "                    n_estimators=1000,\n",
    "                    max_depth=20,\n",
    "                    importance_type=\"gain\",\n",
    "                    learning_rate=0.01,\n",
    "                    n_jobs=4\n",
    "                )\n",
    "    xgb_model.fit(X_, y_,\n",
    "                  early_stopping_rounds=5,\n",
    "                  eval_set=[(X_valid, y_valid)],\n",
    "                  eval_metric=\"rmse\",\n",
    "                  verbose=True)\n"
   ]
  },
  {
   "cell_type": "markdown",
   "metadata": {},
   "source": [
    "Now we save the model to a pickle file"
   ]
  },
  {
   "cell_type": "code",
   "execution_count": 54,
   "metadata": {},
   "outputs": [
    {
     "name": "stderr",
     "output_type": "stream",
     "text": [
      "6:1: W391 blank line at end of file\n"
     ]
    }
   ],
   "source": [
    "pkl_filename = \"pickle_model.pkl\"\n",
    "with open(pkl_filename, 'wb') as file:\n",
    "    pickle.dump(xgb_model, file)\n",
    "print('saved')\n"
   ]
  },
  {
   "cell_type": "markdown",
   "metadata": {},
   "source": [
    "### Evaluating the model\n",
    "\n",
    "we first read the model file then begin evaluation"
   ]
  },
  {
   "cell_type": "code",
   "execution_count": 55,
   "metadata": {},
   "outputs": [
    {
     "name": "stderr",
     "output_type": "stream",
     "text": [
      "4:1: W391 blank line at end of file\n"
     ]
    }
   ],
   "source": [
    "with open(\"pickle_model.pkl\", 'rb') as file:\n",
    "    recovered_lgb_model = pickle.load(file)\n"
   ]
  },
  {
   "cell_type": "markdown",
   "metadata": {},
   "source": [
    "#### Predicting the values of the test set"
   ]
  },
  {
   "cell_type": "code",
   "execution_count": null,
   "metadata": {},
   "outputs": [],
   "source": [
    "X_test_std = (X_test - std_mean) / (std_var ** 0.5)\n",
    "predictions = recovered_lgb_model.predict(X_test)\n"
   ]
  },
  {
   "cell_type": "code",
   "execution_count": null,
   "metadata": {},
   "outputs": [],
   "source": [
    "print(predictions)\n"
   ]
  },
  {
   "cell_type": "code",
   "execution_count": null,
   "metadata": {},
   "outputs": [],
   "source": [
    "error_ = mse(predictions, y_test)\n",
    "print(error_)\n"
   ]
  },
  {
   "cell_type": "markdown",
   "metadata": {},
   "source": [
    "### our mean square error gives us an error of 11.16"
   ]
  },
  {
   "cell_type": "markdown",
   "metadata": {},
   "source": [
    "We check for feature importance to know which parameters were very important in creating the model"
   ]
  },
  {
   "cell_type": "code",
   "execution_count": null,
   "metadata": {},
   "outputs": [],
   "source": [
    "feature_importance = xgb_model.feature_importances_\n"
   ]
  },
  {
   "cell_type": "code",
   "execution_count": null,
   "metadata": {},
   "outputs": [],
   "source": [
    "plt.figure(figsize=(12, 6))\n",
    "sns.barplot(x=feature_importance, y=train_features)\n"
   ]
  },
  {
   "cell_type": "markdown",
   "metadata": {},
   "source": [
    "#### We can see that important features that are used to generate the predictions so we select them"
   ]
  },
  {
   "cell_type": "code",
   "execution_count": null,
   "metadata": {},
   "outputs": [],
   "source": [
    "important_features = [\n",
    "    'price',\n",
    "    'price_per_country_mean',\n",
    "    'price_per_country_mean_diff',\n",
    "    'price_per_country_median',\n",
    "    'price_per_country_median_diff',\n",
    "    'price_per_province_mean',\n",
    "    'price_per_province_mean_diff',\n",
    "    'points_per_country_mean',\n",
    "    'points_per_country_median',\n",
    "    'points_per_province_mean'\n",
    "]\n"
   ]
  },
  {
   "cell_type": "markdown",
   "metadata": {},
   "source": [
    "**we would save these features to ensure persistence\n",
    "so for every new data we get, we would use these features to generate the features**"
   ]
  }
 ],
 "metadata": {
  "kernelspec": {
   "display_name": "Python 3",
   "language": "python",
   "name": "python3"
  },
  "language_info": {
   "codemirror_mode": {
    "name": "ipython",
    "version": 3
   },
   "file_extension": ".py",
   "mimetype": "text/x-python",
   "name": "python",
   "nbconvert_exporter": "python",
   "pygments_lexer": "ipython3",
   "version": "3.7.3"
  }
 },
 "nbformat": 4,
 "nbformat_minor": 2
}
